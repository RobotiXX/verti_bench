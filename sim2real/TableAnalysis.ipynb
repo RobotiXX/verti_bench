{
 "cells": [
  {
   "cell_type": "markdown",
   "metadata": {},
   "source": [
    "Start from here"
   ]
  },
  {
   "cell_type": "code",
   "execution_count": 4,
   "metadata": {},
   "outputs": [
    {
     "name": "stdout",
     "output_type": "stream",
     "text": [
      "Absolute Mean Roll (degrees): 9.12, Standard Deviation Roll (degrees): 7.35\n",
      "Absolute Mean Pitch (degrees): 7.33, Standard Deviation Pitch (degrees): 4.91\n"
     ]
    }
   ],
   "source": [
    "import pickle\n",
    "import math\n",
    "\n",
    "# Path to the pickle file\n",
    "pickle_file_name = \"/home/tong/Documents/verti_bench/Sim2Real/RL-RTW/ER/data_ER.pickle\"\n",
    "\n",
    "# Load the pickle file\n",
    "with open(pickle_file_name, \"rb\") as f:\n",
    "    bag_data = pickle.load(f)\n",
    "\n",
    "# Initialize variables for calculations\n",
    "total_abs_roll_deg = 0.0\n",
    "total_abs_pitch_deg = 0.0\n",
    "squared_diff_roll_deg = 0.0\n",
    "squared_diff_pitch_deg = 0.0\n",
    "count = 0\n",
    "\n",
    "# Conversion factor from radians to degrees\n",
    "RAD_TO_DEG = 180 / math.pi\n",
    "\n",
    "# Iterate through the data to extract roll and pitch\n",
    "for bag_entry in bag_data['data']:\n",
    "    for pose in bag_entry.get('pose', []):\n",
    "        # Convert roll and pitch from radians to degrees and take absolute values\n",
    "        roll_deg = abs(pose[3] * RAD_TO_DEG)\n",
    "        pitch_deg = abs(pose[4] * RAD_TO_DEG)\n",
    "\n",
    "        total_abs_roll_deg += roll_deg\n",
    "        total_abs_pitch_deg += pitch_deg\n",
    "        count += 1\n",
    "\n",
    "# Calculate the absolute mean\n",
    "if count > 0:\n",
    "    mean_abs_roll_deg = total_abs_roll_deg / count\n",
    "    mean_abs_pitch_deg = total_abs_pitch_deg / count\n",
    "\n",
    "    # Second pass to calculate squared differences for variance\n",
    "    for bag_entry in bag_data['data']:\n",
    "        for pose in bag_entry.get('pose', []):\n",
    "            roll_deg = abs(pose[3] * RAD_TO_DEG)\n",
    "            pitch_deg = abs(pose[4] * RAD_TO_DEG)\n",
    "\n",
    "            squared_diff_roll_deg += (roll_deg - mean_abs_roll_deg) ** 2\n",
    "            squared_diff_pitch_deg += (pitch_deg - mean_abs_pitch_deg) ** 2\n",
    "\n",
    "    # Calculate standard deviation\n",
    "    std_roll_deg = math.sqrt(squared_diff_roll_deg / count)\n",
    "    std_pitch_deg = math.sqrt(squared_diff_pitch_deg / count)\n",
    "\n",
    "    print(f\"Absolute Mean Roll (degrees): {mean_abs_roll_deg:.2f}, Standard Deviation Roll (degrees): {std_roll_deg:.2f}\")\n",
    "    print(f\"Absolute Mean Pitch (degrees): {mean_abs_pitch_deg:.2f}, Standard Deviation Pitch (degrees): {std_pitch_deg:.2f}\")\n",
    "else:\n",
    "    print(\"No roll or pitch data found in the pickle file.\")"
   ]
  },
  {
   "cell_type": "code",
   "execution_count": 6,
   "metadata": {},
   "outputs": [
    {
     "name": "stdout",
     "output_type": "stream",
     "text": [
      "Mean: 8.545\n",
      "Standard Deviation: 0.657609306503489\n"
     ]
    }
   ],
   "source": [
    "import math\n",
    "\n",
    "numbers = [8.08, 9.01]\n",
    "\n",
    "# Calculate mean\n",
    "mean = sum(numbers) / len(numbers)\n",
    "\n",
    "# Calculate standard deviation\n",
    "squared_diff_sum = sum((x - mean) ** 2 for x in numbers)\n",
    "variance = squared_diff_sum / (len(numbers) - 1)  # Use n-1 for sample standard deviation\n",
    "std_dev = math.sqrt(variance)\n",
    "\n",
    "print(f\"Mean: {mean}\")\n",
    "print(f\"Standard Deviation: {std_dev}\")"
   ]
  },
  {
   "cell_type": "code",
   "execution_count": null,
   "metadata": {},
   "outputs": [],
   "source": []
  }
 ],
 "metadata": {
  "kernelspec": {
   "display_name": "chrono",
   "language": "python",
   "name": "python3"
  },
  "language_info": {
   "codemirror_mode": {
    "name": "ipython",
    "version": 3
   },
   "file_extension": ".py",
   "mimetype": "text/x-python",
   "name": "python",
   "nbconvert_exporter": "python",
   "pygments_lexer": "ipython3",
   "version": "3.9.21"
  }
 },
 "nbformat": 4,
 "nbformat_minor": 2
}
